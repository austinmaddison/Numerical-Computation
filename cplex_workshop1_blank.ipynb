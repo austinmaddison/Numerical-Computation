{
  "cells": [
    {
      "cell_type": "markdown",
      "metadata": {
        "id": "view-in-github",
        "colab_type": "text"
      },
      "source": [
        "<a href=\"https://colab.research.google.com/github/austinmaddison/Numerical-Computation/blob/master/cplex_workshop1_blank.ipynb\" target=\"_parent\"><img src=\"https://colab.research.google.com/assets/colab-badge.svg\" alt=\"Open In Colab\"/></a>"
      ]
    },
    {
      "cell_type": "markdown",
      "metadata": {
        "id": "15R_aq-2S1ru"
      },
      "source": [
        "# ICMA346\n",
        "## Introduction to CPLEX\n",
        "\n",
        "### 📌 Objectives\n",
        "- Understand what CPLEX is and how it is used in optimization.\n",
        "- Learn how to define variables, constraints, and objectives using the Python API.\n",
        "- Solve optimization problems using CPLEX, interpret the results, and perform sensitivity analysis."
      ]
    },
    {
      "cell_type": "markdown",
      "metadata": {
        "id": "r1Isg70QS-Fe"
      },
      "source": [
        "## What is CPLEX?\n",
        "\n",
        "CPLEX consists of software components and options for solving linear optimization problems or linear programming problems, of the form:\n",
        "\n",
        "\\begin{align}\n",
        "\\text{Maximize (or Minimize): }& c_1 x_1 + c_2 x_2 + \\cdots + c_n x_n \\\\\n",
        "\\text{subject to } : & a_{11} x_1 + a_{12} x_2 + \\cdots + a_{1n} x_n \\sim b_1 \\\\\n",
        "&a_{21} x_1 + a_{22} x_2 + \\cdots + a_{2n} x_n \\sim b_2 \\\\\n",
        "&\\cdots \\\\\n",
        "& a_{m1} x_1 + a_{m2} x_2 + \\cdots + a_{mn} x_n \\sim b_m \\\\\n",
        "\\text{with these bounds: }& l_1 \\leq x_1 \\leq u_1 \\\\\n",
        "&l_2 \\leq x_2 \\leq u_2 \\\\\n",
        "& \\cdots  \\\\\n",
        "&l_n \\leq x_n \\leq u_n\n",
        "\\end{align}\n",
        "\n",
        "where $\\sim$ can be $\\leq$, $\\geq$ or $=$ and the upper bounds $u_i$ and lower bound $l_i$ may be positive infinity, negative infinity, or any real number.\n",
        "\n",
        "\n"
      ]
    },
    {
      "cell_type": "markdown",
      "metadata": {
        "id": "qLY0dhfpbjec"
      },
      "source": [
        "## CPLEX components\n",
        "\n",
        "* **CPLEX Interactive Optimizer** is an executable program that can read a problem interactively or from files in certain standard formats, solve the problem, and deliver the solution interactively or into text files.\n",
        "\n",
        "* **Concert Technology** is a set of C++, Java, and .NET class libraries offering an API that includes modeling facilities to allow the programmer to embed CPLEX optimizers in C++, Java, or .NET applications.\n",
        "\n",
        "* **CPLEX Callable Library** is a C library that allows the programmer to embed CPLEX optimizers in applications written in C, Visual Basic, FORTRAN, or any other language that can call C functions.\n",
        "\n",
        "* **Python API** for CPLEX a full-featured Python application programming interface supporting all aspects of CPLEX optimization.\n",
        "\n",
        "* **CPLEX connector** for The MathWorks MATLAB enables a user to define optimization problems and solve them within MATLAB using either the MATLAB Toolbox or a CPLEX class in the MATLAB language."
      ]
    },
    {
      "cell_type": "markdown",
      "metadata": {
        "id": "41HCEHFsdnMv"
      },
      "source": [
        "# Setting up CPLEX\n",
        "* `cplex` is a python interface to the CPLEX Callable Library.\n",
        "* `docplex` is a decision optimization CPLEX modelling for Python (DOplex).\n",
        "\n",
        "We are now using a free community edition of CPLEX Optimization Studio, with limited solving cababilities in term of problem size."
      ]
    },
    {
      "cell_type": "code",
      "execution_count": null,
      "metadata": {
        "colab": {
          "base_uri": "https://localhost:8080/"
        },
        "id": "Za0AJhYpRsDT",
        "outputId": "3b48a6d8-ac1f-435c-be2c-2d052eab077f"
      },
      "outputs": [
        {
          "output_type": "stream",
          "name": "stdout",
          "text": [
            "Requirement already satisfied: cplex in /usr/local/lib/python3.11/dist-packages (22.1.2.0)\n"
          ]
        }
      ],
      "source": [
        "!pip install cplex"
      ]
    },
    {
      "cell_type": "code",
      "execution_count": null,
      "metadata": {
        "colab": {
          "base_uri": "https://localhost:8080/"
        },
        "id": "z9KIuu5Ofq3r",
        "outputId": "e04a429a-c155-4995-907f-bec321a723e1"
      },
      "outputs": [
        {
          "output_type": "stream",
          "name": "stdout",
          "text": [
            "Collecting docplex\n",
            "  Downloading docplex-2.29.245.tar.gz (645 kB)\n",
            "\u001b[?25l     \u001b[90m━━━━━━━━━━━━━━━━━━━━━━━━━━━━━━━━━━━━━━━━\u001b[0m \u001b[32m0.0/645.9 kB\u001b[0m \u001b[31m?\u001b[0m eta \u001b[36m-:--:--\u001b[0m\r\u001b[2K     \u001b[91m━━━━━━━━━━━━━━\u001b[0m\u001b[90m╺\u001b[0m\u001b[90m━━━━━━━━━━━━━━━━━━━━━━━━\u001b[0m \u001b[32m235.5/645.9 kB\u001b[0m \u001b[31m6.7 MB/s\u001b[0m eta \u001b[36m0:00:01\u001b[0m\r\u001b[2K     \u001b[90m━━━━━━━━━━━━━━━━━━━━━━━━━━━━━━━━━━━━━━━\u001b[0m \u001b[32m645.9/645.9 kB\u001b[0m \u001b[31m9.6 MB/s\u001b[0m eta \u001b[36m0:00:00\u001b[0m\n",
            "\u001b[?25h  Installing build dependencies ... \u001b[?25l\u001b[?25hdone\n",
            "  Getting requirements to build wheel ... \u001b[?25l\u001b[?25hdone\n",
            "  Installing backend dependencies ... \u001b[?25l\u001b[?25hdone\n",
            "  Preparing metadata (pyproject.toml) ... \u001b[?25l\u001b[?25hdone\n",
            "Requirement already satisfied: six in /usr/local/lib/python3.11/dist-packages (from docplex) (1.17.0)\n",
            "Building wheels for collected packages: docplex\n",
            "  Building wheel for docplex (pyproject.toml) ... \u001b[?25l\u001b[?25hdone\n",
            "  Created wheel for docplex: filename=docplex-2.29.245-py3-none-any.whl size=685439 sha256=34161ed28b3a3871f2499c361ce0291e60c67b88ec9585a1458fa1d109e51ff2\n",
            "  Stored in directory: /root/.cache/pip/wheels/be/37/0a/5f5f9ed14d637a664ad676493d55654f655a099c7016808739\n",
            "Successfully built docplex\n",
            "Installing collected packages: docplex\n",
            "Successfully installed docplex-2.29.245\n"
          ]
        }
      ],
      "source": [
        "!pip install docplex"
      ]
    },
    {
      "cell_type": "markdown",
      "metadata": {
        "id": "eu8sXgUnhslg"
      },
      "source": [
        "# Example 1: A production problem\n",
        "\n",
        "## Problem description: telephone production\n",
        "\n",
        "A telephone company produces and sells two kinds of telephones, namely desk phones and cellular phones.\n",
        "\n",
        "Each type of phone is assembled and painted by the company. Assembly time for desk phone is 0.2 hour per item and the time for cell phone is 0.4 hour per phone. The painting time for each desk phone is 0.5 hour per item and the time for cell phone is 0.4 hour per item. The objective is to maximize profit, and the company has to produce at least 100 of each type of phone. A desk phone and cell phone can be sold at 12 and 20 per item, respectively.\n",
        "\n",
        "The assembly time for DeskProduction plus the assembly time for CellProduction should not exceed 400 hours. The painting time for DeskProduction plus the painting time for CellProduction should not exceed 490 hours.\n",
        "\n",
        "* What are the decision variables?\n",
        "* What is the objective?\n",
        "* What are the constraints?"
      ]
    },
    {
      "cell_type": "markdown",
      "metadata": {
        "id": "6DGIA__Vk8YK"
      },
      "source": [
        "## Using DOcplex to formulate the model in Python\n",
        "\n",
        "Use the DOcplex Python library to write the mathematical model in Python can be done in four steps:\n",
        "* create an instance of `docplex.mp.Model` to hold all model objects\n",
        "* create decision variables\n",
        "* create linear constraints\n",
        "* define the objective"
      ]
    },
    {
      "cell_type": "markdown",
      "metadata": {
        "id": "9xO2eZLOlf0O"
      },
      "source": [
        "### Create the model"
      ]
    },
    {
      "cell_type": "code",
      "execution_count": null,
      "metadata": {
        "id": "BljQsoDClmyf"
      },
      "outputs": [],
      "source": [
        "from docplex.mp.model import Model\n",
        "\n",
        "# Task: create a model instance, with a name...\n",
        "# m = ..."
      ]
    },
    {
      "cell_type": "markdown",
      "metadata": {
        "id": "NG_H1gCSxzFf"
      },
      "source": [
        "### Model decision variables\n",
        "\n",
        "Decision variables are created using factory methods on the Model class. The Model can create single variables, lists of variables, and dictionaries of variables indexed by business objects. Here is a table of the standard factory methods to create variables:\n",
        "\n",
        " Function\t | Creates\n",
        ":----|:----\n",
        "`binary_var()` |\tSingle binary variable\n",
        "`binary_var_list()`|\tList of binary variables\n",
        "`binary_var_dict()` |\tDictionary of binary variables\n",
        "`binary_var_matrix()` |\tMatrix of binary variables\n",
        "`integer_var()` |\tSingle integer variable\n",
        "`integer_var_list()` |\tList of integer variables\n",
        "`integer_var_dict()` |\tDictionary of integer variables\n",
        "`integer_var_matrix()` |\tMatrix of integer variables\n",
        "`continuous_var()` |\tSingle continuous variable\n",
        "`continuous_var_list()` |\tList of continuous variables\n",
        "`continuous_var_dict()` |\tDictionary of continuous variables\n",
        "`continuous_var_matrix()` |\tMatrix of continuous variables\n",
        "\n",
        "There are three types of decision variables according to their scope of possible values: binary variables (0 or 1), integer variables, or continuous variables. The detailed attributes for variables can be found in the class `Var` in the module `linear.py`.\n",
        "\n",
        "See: https://ibmdecisionoptimization.github.io/docplex-doc/mp/docplex.mp.model.html"
      ]
    },
    {
      "cell_type": "markdown",
      "metadata": {
        "id": "r098p-Lzl2pr"
      },
      "source": [
        "### Define the decision variables: telephone production\n",
        "* The continuous variable `desk` represents the production of desk telephones.\n",
        "* The continuous variable `cell` represents the production of cell phones."
      ]
    },
    {
      "cell_type": "code",
      "execution_count": null,
      "metadata": {
        "id": "K9cNOM9VmGex"
      },
      "outputs": [],
      "source": [
        "# Task: create decision variables desk and cell\n",
        "#desk = ...\n",
        "#cell = ..."
      ]
    },
    {
      "cell_type": "markdown",
      "metadata": {
        "id": "sY-3xlSYNOzs"
      },
      "source": [
        "## `continuous_var(lb=None, ub=None, name=None)`\n",
        "\n",
        "Creates a new continuous decision variable and stores it in the model.\n",
        "\n",
        "**Parameters:**\n",
        "\n",
        "- `lb` – The lower bound of the variable, or `None`. The default is `0`.\n",
        "- `ub` – The upper bound of the variable, or `None`, to use the default. The default is model infinity.\n",
        "- `name` (`string`) – An optional name for the variable.\n"
      ]
    },
    {
      "cell_type": "markdown",
      "metadata": {
        "id": "HhxYDFSNzjD7"
      },
      "source": [
        "### Adding constraints to the model\n",
        "\n",
        "Function | Description\n",
        ":---- |:----\n",
        "add_constraint(ct) | Adds a new linear constraint to the model.\n",
        "add_constraints(cts) | Adds a batch of linear constraints to the model in one operation. Each constraint from the `cts` iterable is added to the model.\n"
      ]
    },
    {
      "cell_type": "markdown",
      "metadata": {
        "id": "DeH2VgVLmObS"
      },
      "source": [
        "### Set up the constraints: telephone production\n",
        "* Desk and cell phone must both be greater than 100\n",
        "* Assembly time is limited.\n",
        "* Painting time is limited."
      ]
    },
    {
      "cell_type": "code",
      "execution_count": null,
      "metadata": {
        "id": "mVY_yheOmcBI"
      },
      "outputs": [],
      "source": [
        "#Task: create constraints using m.add_constraint(...)\n",
        "\n",
        "# constraint #1: desk production is greater than 100\n",
        "m.add_constraint(desk >= 100)\n",
        "\n",
        "# constraint #2: cell production is greater than 100\n",
        "m.add_constraint(cell >= 100)\n",
        "\n",
        "\n",
        "# C3 constraint #3: assembly time limit: 0.2 * desk + 0.4 * cell <= 400\n",
        "#ct_assembly =\n",
        "\n",
        "# C4 constraint #4: paiting time limit: 0.5 * desk + 0.4 * cell <= 490\n",
        "#ct_painting ="
      ]
    },
    {
      "cell_type": "markdown",
      "metadata": {
        "id": "1hN_JJQXmtjW"
      },
      "source": [
        "### Write objective: telephone production\n",
        "Objective is to maximize the expected revenue"
      ]
    },
    {
      "cell_type": "code",
      "execution_count": null,
      "metadata": {
        "id": "KBmxidbCm6Z4"
      },
      "outputs": [],
      "source": [
        "# Task: create objective function (maximization) using m.maximize()...\n"
      ]
    },
    {
      "cell_type": "markdown",
      "metadata": {
        "id": "e0iYKePKnSFo"
      },
      "source": [
        "### Print information about the model"
      ]
    },
    {
      "cell_type": "code",
      "execution_count": null,
      "metadata": {
        "colab": {
          "base_uri": "https://localhost:8080/"
        },
        "id": "4U1AduC7nWEu",
        "outputId": "26f6c0f2-0ebe-4723-ada4-6234c38a9e90"
      },
      "outputs": [
        {
          "name": "stdout",
          "output_type": "stream",
          "text": [
            "Model: telephone Production\n",
            " - number of variables: 2\n",
            "   - binary=0, integer=0, continuous=2\n",
            " - number of constraints: 4\n",
            "   - linear=4\n",
            " - parameters: defaults\n",
            " - objective: maximize\n",
            " - problem type is: LP\n"
          ]
        }
      ],
      "source": [
        "m.print_information()"
      ]
    },
    {
      "cell_type": "markdown",
      "metadata": {
        "id": "mII2YNi1nb6M"
      },
      "source": [
        "### Solve the model\n",
        "The command to execute the model is simply use `Model.solve()` and the cplex return the solution object in Python, containing the optimal values of decision variables, if the solve succeeds, or else returns `None`."
      ]
    },
    {
      "cell_type": "code",
      "execution_count": null,
      "metadata": {
        "id": "6J4OtI6Pnv5c"
      },
      "outputs": [],
      "source": [
        "s = m.solve()"
      ]
    },
    {
      "cell_type": "code",
      "execution_count": null,
      "metadata": {
        "colab": {
          "base_uri": "https://localhost:8080/"
        },
        "id": "YPyPKVZhIReC",
        "outputId": "523bc38b-be9e-488f-b955-6adbcd61097a"
      },
      "outputs": [
        {
          "name": "stdout",
          "output_type": "stream",
          "text": [
            "objective: 20600.000\n",
            "status: OPTIMAL_SOLUTION(2)\n",
            "  desk=300.000\n",
            "  cell=850.000\n"
          ]
        }
      ],
      "source": [
        "m.print_solution()"
      ]
    },
    {
      "cell_type": "markdown",
      "metadata": {
        "id": "B-IDa8JyNOzt"
      },
      "source": [
        "### Accessing various components of the solution...\n",
        "\n",
        "Try:\n",
        "\n",
        "```python\n",
        "s.get_value(desk)\n",
        "opt_sol = s.get_value_list([desk, cell])\n",
        "```\n"
      ]
    },
    {
      "cell_type": "markdown",
      "metadata": {
        "id": "iL4e956Qwmsv"
      },
      "source": [
        "### Accessing slack values\n",
        "Let's examine slack values of some constraints in our problem."
      ]
    },
    {
      "cell_type": "code",
      "execution_count": null,
      "metadata": {
        "colab": {
          "base_uri": "https://localhost:8080/"
        },
        "id": "suL6Olfxw0BS",
        "outputId": "91d05aba-af46-4caf-a50e-c829c30e3108"
      },
      "outputs": [
        {
          "name": "stdout",
          "output_type": "stream",
          "text": [
            "slack value for assembly time constraint is: 0\n",
            "slack value for painting time constraint is: 0\n"
          ]
        }
      ],
      "source": [
        "print('slack value for assembly time constraint is: {0}'.format(ct_assembly.slack_value))\n",
        "print('slack value for painting time constraint is: {0}'.format(ct_painting.slack_value))"
      ]
    },
    {
      "cell_type": "markdown",
      "metadata": {
        "id": "_g5mTTNDNOzt"
      },
      "source": [
        "There are many other methods available in the `SolveSolution` class that can help you analyze and understand the solution. To explore more methods available in the `SolveSolution` class, consult the [DOcplex documentation](https://ibmdecisionoptimization.github.io/docplex-doc/mp/docplex.mp.solution.html).\n"
      ]
    },
    {
      "cell_type": "markdown",
      "metadata": {
        "id": "AG86hUNmNOzt"
      },
      "source": [
        "### Checking Solution Feasibility and Constraint Status\n",
        "\n",
        "Try:\n",
        "\n",
        "```python\n",
        "s.is_feasible_solution()\n",
        "s.get_status(ct_assembly)\n",
        "s.get_status(ct_painting)\n",
        "```\n"
      ]
    },
    {
      "cell_type": "markdown",
      "metadata": {
        "id": "BFLzhCCeNOzt"
      },
      "source": [
        "### `SolveSolution.is_feasible_solution()`\n",
        "\n",
        "`is_feasible_solution()` is a method in the `docplex.mp.solution.SolveSolution` class.\n",
        "\n",
        "It checks whether the solution is **feasible** with respect to the model's constraints.\n",
        "\n",
        "- **Returns `True`** if all constraints are satisfied.\n",
        "- **Returns `False`** if the solution violates any constraint.\n"
      ]
    },
    {
      "cell_type": "markdown",
      "metadata": {
        "id": "TGYcxBKvNOzt"
      },
      "source": [
        "### `SolveSolution.get_status(ct)`\n",
        "\n",
        "`get_status(ct)` is a method in the `docplex.mp.solution.SolveSolution` class.\n",
        "\n",
        "It returns the **status of a linear constraint** in the solution:\n",
        "\n",
        "- **Returns `1`** if the constraint is **satisfied** in the solution.\n",
        "- **Returns `0`** if the constraint is **not satisfied**.\n",
        "\n",
        "This method is particularly useful when you are working with the **status of constraints** after solving a model.\n",
        "\n",
        "#### **Parameters**\n",
        "\n",
        "- `ct` – a linear constraint (created using the CPLEX Python API).\n",
        "\n",
        "#### **Returns**\n",
        "\n",
        "- `1` if the constraint is satisfied.\n",
        "- `0` otherwise."
      ]
    },
    {
      "cell_type": "markdown",
      "metadata": {
        "id": "WjvfeVGXNOzt"
      },
      "source": [
        "# Example 2. Sensitivity Analysis with DOcplex"
      ]
    },
    {
      "cell_type": "markdown",
      "metadata": {
        "id": "hNHZVTC6uwIF"
      },
      "source": [
        "## Task: Implement linear programming model in Chapter 8 with cplex\n",
        "\n",
        "  * Verify the solution of your cplex model with the solution in the lecture note\n",
        "  * Verify sensitivity analysis from cplex model with the solution in the lecture note\n",
        "  \n",
        "  ### Recall: LP problem\n",
        "\n",
        "$$\n",
        "\\begin{align*}\n",
        "\\text{Maximize} \\quad & -5x_1 + 5x_2 + 13x_3 \\\\\n",
        "\\text{subject to} \\quad\n",
        "& -x_1 + x_2 + 3x_3 \\leq 20 \\\\\n",
        "& 12x_1 + 4x_2 + 10x_3 \\leq 90 \\\\\n",
        "& x_1, x_2, x_3 \\geq 0\n",
        "\\end{align*}\n",
        "$$\n"
      ]
    },
    {
      "cell_type": "code",
      "execution_count": null,
      "metadata": {
        "id": "hrVTVyznUXdW"
      },
      "outputs": [],
      "source": [
        "from docplex.mp.model import Model\n",
        "ch8Model = Model(name='ch8')"
      ]
    },
    {
      "cell_type": "code",
      "execution_count": null,
      "metadata": {
        "id": "FNEzm2VzUb9l"
      },
      "outputs": [],
      "source": [
        "# Task: define x1, x2, x3...\n",
        "x1 = ch8Model.continuous_var(name='x1')\n",
        "#x2 =\n",
        "#x3 =\n",
        "\n",
        "# Task: define const1, const2\n",
        "const1 = ch8Model.add_constraint(-x1+x2+3*x3 <= 20)\n",
        "#const2 =\n",
        "\n",
        "\n",
        "#Task: define objective function, solve it and call it s.\n",
        "\n",
        "\n",
        "# Task: solve the model and store the result in variable `s`\n"
      ]
    },
    {
      "cell_type": "code",
      "execution_count": null,
      "metadata": {
        "colab": {
          "base_uri": "https://localhost:8080/"
        },
        "id": "YxhtVlV8VIwt",
        "outputId": "2c1b00c9-cbed-43b5-a352-5de9af770a57"
      },
      "outputs": [
        {
          "name": "stdout",
          "output_type": "stream",
          "text": [
            "objective: 100.000\n",
            "status: OPTIMAL_SOLUTION(2)\n",
            "  x2=20.000\n"
          ]
        }
      ],
      "source": [
        "# Uncomment the following line to print solution\n",
        "\n",
        "#ch8Model.print_solution()"
      ]
    },
    {
      "cell_type": "markdown",
      "metadata": {
        "id": "GLb5Q18NNOzu"
      },
      "source": [
        "### Accessing cplex engine...\n",
        "\n",
        "The following command:\n",
        "\n",
        "```python\n",
        "ch8Model.get_engine().get_cplex()\n",
        "```\n",
        "returns the underlying **CPLEX solver object** used by the model.\n"
      ]
    },
    {
      "cell_type": "code",
      "execution_count": null,
      "metadata": {
        "scrolled": true,
        "id": "uUDv-eZxNOzu"
      },
      "outputs": [],
      "source": [
        "cpx = ch8Model.get_engine().get_cplex()"
      ]
    },
    {
      "cell_type": "markdown",
      "metadata": {
        "id": "zTR8aVRgNOzu"
      },
      "source": [
        "### Get sensitivity analysis for the objective function cofficients"
      ]
    },
    {
      "cell_type": "code",
      "execution_count": null,
      "metadata": {
        "id": "gsb_ajjxNOz0",
        "outputId": "a379916d-efee-4d19-96f0-3c8712220f94"
      },
      "outputs": [
        {
          "name": "stdout",
          "output_type": "stream",
          "text": [
            "[(-1e+20, -5.0), (4.333333333333333, 5.0), (-1e+20, 15.0)]\n"
          ]
        }
      ],
      "source": [
        "# Uncomment the following line...\n",
        "\n",
        "#print(cpx.solution.sensitivity.objective())"
      ]
    },
    {
      "cell_type": "markdown",
      "metadata": {
        "id": "NZ3ktgpFNOz0"
      },
      "source": [
        "### Get sensitivity analysis for the right hand side of the constraints"
      ]
    },
    {
      "cell_type": "code",
      "execution_count": null,
      "metadata": {
        "id": "Cgxd8-0nNOz0",
        "outputId": "4bb0cded-8338-4b6f-e709-1e9764c64ce7"
      },
      "outputs": [
        {
          "name": "stdout",
          "output_type": "stream",
          "text": [
            "[(0.0, 22.5), (80.0, 1e+20)]\n"
          ]
        }
      ],
      "source": [
        "# Uncomment the following line...\n",
        "\n",
        "#print(cpx.solution.sensitivity.rhs())"
      ]
    },
    {
      "cell_type": "markdown",
      "metadata": {
        "id": "hw5YQ2saNOz0"
      },
      "source": [
        "### Get reduced costs of the NBVs"
      ]
    },
    {
      "cell_type": "code",
      "execution_count": null,
      "metadata": {
        "id": "Sop52haMNOz0",
        "outputId": "88ea3d9b-bbba-4e42-c5c3-8ad3000edb01"
      },
      "outputs": [
        {
          "data": {
            "text/plain": [
              "[0, -2.0]"
            ]
          },
          "execution_count": 49,
          "metadata": {},
          "output_type": "execute_result"
        }
      ],
      "source": [
        "# Uncomment the following line...\n",
        "\n",
        "#s.get_reduced_costs([x1,x3])"
      ]
    },
    {
      "cell_type": "markdown",
      "metadata": {
        "id": "imYTrCz-NOz0"
      },
      "source": [
        "### `SolveSolution.get_reduced_costs(vars=None)`\n",
        "\n",
        "`get_reduced_costs()` is a method in the `docplex.mp.solution.SolveSolution` class.\n",
        "\n",
        "In **CPLEX**, this function retrieves the **reduced cost** for a specific variable or a set of variables within a **linear programming (LP)** model.\n",
        "\n",
        "The **reduced cost** represents the amount by which the objective function coefficient of a **non-basic variable** must improve before that variable could enter the optimal solution with a non-zero value.\n",
        "\n",
        "\n",
        "#### **Usage with specific variables**\n",
        "\n",
        "```python\n",
        "solution.get_reduced_costs([x1, x3])\n"
      ]
    }
  ],
  "metadata": {
    "colab": {
      "provenance": [],
      "include_colab_link": true
    },
    "kernelspec": {
      "display_name": "Python 3 (ipykernel)",
      "language": "python",
      "name": "python3"
    },
    "language_info": {
      "codemirror_mode": {
        "name": "ipython",
        "version": 3
      },
      "file_extension": ".py",
      "mimetype": "text/x-python",
      "name": "python",
      "nbconvert_exporter": "python",
      "pygments_lexer": "ipython3",
      "version": "3.9.13"
    }
  },
  "nbformat": 4,
  "nbformat_minor": 0
}